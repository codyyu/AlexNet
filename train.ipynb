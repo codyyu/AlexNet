{
 "cells": [
  {
   "cell_type": "code",
   "execution_count": 2,
   "id": "473b77cc-6ad7-4c4c-a8f7-205ea493f053",
   "metadata": {},
   "outputs": [],
   "source": [
    "import os\n",
    "import argparse\n",
    "import tensorflow as tf\n",
    "\n",
    "# from training import training_loop"
   ]
  },
  {
   "cell_type": "code",
   "execution_count": 3,
   "id": "8a87b564-f07a-40c8-8ed5-1954be5fc0a3",
   "metadata": {},
   "outputs": [],
   "source": [
    "class UserError(Exception):\n",
    "    pass"
   ]
  },
  {
   "cell_type": "code",
   "execution_count": null,
   "id": "84469461-1090-476a-90ed-a3d52a43b70e",
   "metadata": {},
   "outputs": [],
   "source": [
    "def run_training(outdir, data, resume=False, epoch):\n",
    "    \n",
    "    # Pick output directory\n",
    "    print(\"Creating output directory...\")\n",
    "    os.makedirs(outdir)\n",
    "    \n",
    "    training_loop.training_loop(outdir, data, resume, epoch)\n",
    "        "
   ]
  },
  {
   "cell_type": "code",
   "execution_count": 4,
   "id": "722843fd-e22f-4f6c-9dd7-a635495eee54",
   "metadata": {},
   "outputs": [],
   "source": [
    "def main():\n",
    "    parser = argparse.ArgumentParser(\n",
    "        description = \"Train AlexNet using the architecture described in the paper\\n 'ImageNet Classification with Deep Convolutional Neural Networks'\",\n",
    "        formatter_class = argparse.RawDescriptionHelpFormatter\n",
    "    )\n",
    "    \n",
    "    parser.add_argument('--outdir', help='Where to save the result (required)', required=True, metavar='DIR')\n",
    "    parser.add_argument('--data', help='Training dataset path (required)', required=True, metavar='PATH')\n",
    "    parser.add_argument('--resume', help='Resume from the latest checkpoint', default=False)\n",
    "    parser.add_argument('--epoch', help='Determine the number of epochs', required=True)\n",
    "    \n",
    "    args = parser.parse_args()\n",
    "    \n",
    "    try:\n",
    "        run_training(**vars(args))\n",
    "    except UserError as err:\n",
    "        print(f'Error: {err}')\n",
    "        exit(1)"
   ]
  },
  {
   "cell_type": "code",
   "execution_count": null,
   "id": "389b9202-59fd-409e-b6a5-f4e131334fac",
   "metadata": {},
   "outputs": [],
   "source": [
    "if __name__ == \"__main__\":\n",
    "    main()"
   ]
  }
 ],
 "metadata": {
  "kernelspec": {
   "display_name": "alexnet",
   "language": "python",
   "name": "alexnet"
  },
  "language_info": {
   "codemirror_mode": {
    "name": "ipython",
    "version": 3
   },
   "file_extension": ".py",
   "mimetype": "text/x-python",
   "name": "python",
   "nbconvert_exporter": "python",
   "pygments_lexer": "ipython3",
   "version": "3.7.11"
  }
 },
 "nbformat": 4,
 "nbformat_minor": 5
}
